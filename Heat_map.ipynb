{
 "cells": [
  {
   "cell_type": "code",
   "execution_count": 4,
   "metadata": {},
   "outputs": [
    {
     "name": "stdout",
     "output_type": "stream",
     "text": [
      "b'{\\n  \"name\" : \"1vVZ8vC\",\\n  \"cluster_name\" : \"elasticsearch\",\\n  \"cluster_uuid\" : \"sIHxkUftQV26kA1RWD_ZkQ\",\\n  \"version\" : {\\n    \"number\" : \"6.2.4\",\\n    \"build_hash\" : \"ccec39f\",\\n    \"build_date\" : \"2018-04-12T20:37:28.497551Z\",\\n    \"build_snapshot\" : false,\\n    \"lucene_version\" : \"7.2.1\",\\n    \"minimum_wire_compatibility_version\" : \"5.6.0\",\\n    \"minimum_index_compatibility_version\" : \"5.0.0\"\\n  },\\n  \"tagline\" : \"You Know, for Search\"\\n}\\n'\n"
     ]
    }
   ],
   "source": [
    "import requests\n",
    "res = requests.get('http://localhost:9200')\n",
    "print(res.content) #Check if elastic search node is up and running."
   ]
  },
  {
   "cell_type": "code",
   "execution_count": 5,
   "metadata": {},
   "outputs": [],
   "source": [
    "from elasticsearch import Elasticsearch\n",
    "es = Elasticsearch([{'host': 'localhost', 'port': 9200}])  #Connect to elastisearch node setup through terminal on port 9200\n",
    "import folium\n",
    "from folium import plugins #Import Folium Heat Map library\n"
   ]
  },
  {
   "cell_type": "code",
   "execution_count": 6,
   "metadata": {},
   "outputs": [],
   "source": [
    "import json\n",
    "from collections import defaultdict\n",
    "list_of_issues = [json.loads(line) for line in open('SPM587SP18issues.json')] #From charting_issues.ipynb\n",
    "#list_of_issues\n",
    "\n",
    "\n",
    "filteredData = list() #Creating a new dictionary for 'labels', since in the original json file, \n",
    "#each of the labels are just string values instead of key value pair, thus cannot be queried directly.\n",
    "for data in list_of_issues:\n",
    "    temp_List = dict()\n",
    "    if len(data['labels']):\n",
    "        temp_List.update({'Author' : data['Author']}) #The new dictionary only has Author, Issue number and various labels as key value pair \n",
    "        temp_List.update({'issue_number' : data['issue_number']})\n",
    "        for i in data['labels']:\n",
    "            temp_List.update({i.split(':')[0] : i.split(':')[1]})\n",
    "        filteredData.append(temp_List)\n"
   ]
  },
  {
   "cell_type": "code",
   "execution_count": 7,
   "metadata": {},
   "outputs": [
    {
     "name": "stdout",
     "output_type": "stream",
     "text": [
      "234\n"
     ]
    },
    {
     "data": {
      "text/plain": [
       "{'Author': 'HSP18SCM50W',\n",
       " 'Category': 'Inquiry',\n",
       " 'DetectionPhase': 'Field',\n",
       " 'OriginationPhase': 'Coding',\n",
       " 'Priority': 'High',\n",
       " 'Status': 'inProgress',\n",
       " 'issue_number': 475}"
      ]
     },
     "execution_count": 7,
     "metadata": {},
     "output_type": "execute_result"
    }
   ],
   "source": [
    "print(len(filteredData))\n",
    "filteredData[0] #Similar output for all the 234 issue records."
   ]
  },
  {
   "cell_type": "code",
   "execution_count": 8,
   "metadata": {},
   "outputs": [
    {
     "data": {
      "text/plain": [
       "(234, [])"
      ]
     },
     "execution_count": 8,
     "metadata": {},
     "output_type": "execute_result"
    }
   ],
   "source": [
    "from elasticsearch import Elasticsearch, helpers #Code taken from the tutorial provided\n",
    "es = Elasticsearch()\n",
    "actions = list()\n",
    "for data in filteredData:\n",
    "    action = {\n",
    "        '_index' : 'issues_fin', #Name the database as issues_fin\n",
    "        '_type' : 'github repo issues', \n",
    "        '_id' : data['issue_number'], #use issue number as id for each dictionary entry\n",
    "        '_source' : data \n",
    "    }\n",
    "    actions.append(action)\n",
    "helpers.bulk(es,actions) #Pushing the new filtered list into elastic search database named issues_fin"
   ]
  },
  {
   "cell_type": "code",
   "execution_count": 9,
   "metadata": {},
   "outputs": [],
   "source": [
    "query1 = { #First query that queries elastic search that returns all the issues\n",
    "    'size' : 500,\n",
    "    'query' : {\n",
    "        'match_all' : {}\n",
    "    }\n",
    "}"
   ]
  },
  {
   "cell_type": "code",
   "execution_count": 10,
   "metadata": {},
   "outputs": [],
   "source": [
    "output1 = es.search(index = 'issues_fin', body = query1, scroll = '1h') #All the issues from es stored in this variable"
   ]
  },
  {
   "cell_type": "code",
   "execution_count": 11,
   "metadata": {},
   "outputs": [
    {
     "name": "stdout",
     "output_type": "stream",
     "text": [
      "dict_keys(['_scroll_id', 'took', 'timed_out', '_shards', 'hits'])\n"
     ]
    },
    {
     "data": {
      "text/plain": [
       "{'_id': '470',\n",
       " '_index': 'issues_fin',\n",
       " '_score': 1.0,\n",
       " '_source': {'Author': 'RSP18SCM19N',\n",
       "  'Category': 'Enhancement',\n",
       "  'DetectionPhase': 'Testing',\n",
       "  'OriginationPhase': 'Design',\n",
       "  'Priority': 'Major',\n",
       "  'Status': 'Completed',\n",
       "  'issue_number': 470},\n",
       " '_type': 'github repo issues'}"
      ]
     },
     "execution_count": 11,
     "metadata": {},
     "output_type": "execute_result"
    }
   ],
   "source": [
    "print(output1.keys()) #Prints all the keys in the output1 dictionary\n",
    "output1['hits']['hits'][0] #Similar output for rest of the issues."
   ]
  },
  {
   "cell_type": "code",
   "execution_count": 12,
   "metadata": {},
   "outputs": [],
   "source": [
    "output1Lat_Long = [] #Extracting only Latitiude and Longitude labels from output1 and storing them into array\n",
    "exists = False\n",
    "for i in (output1['hits']['hits']): #Format of elasticsearch, after querying this is how labels are accessed.\n",
    "    temp = [] \n",
    "    try: #Since many issues do not have 'Latitude' or 'Longitude' labels, it tries to obtain them, if not then pass\n",
    "        temp.append(float(i['_source']['Latitude']))\n",
    "        temp.append(float(i['_source']['Longitude']))\n",
    "        output1Lat_Long.append(temp)\n",
    "    except:\n",
    "        pass"
   ]
  },
  {
   "cell_type": "code",
   "execution_count": 13,
   "metadata": {},
   "outputs": [
    {
     "data": {
      "text/plain": [
       "[[41.878693, -87.638924],\n",
       " [41.838897, -87.646804],\n",
       " [41.858415, -87.660926],\n",
       " [41.89302, -87.631556],\n",
       " [41.878693, -87.638924],\n",
       " [41.847095, -87.616767],\n",
       " [41.847095, -87.616767],\n",
       " [41.847095, -87.616767],\n",
       " [41.877817, -87.631247],\n",
       " [41.89323, -87.617419],\n",
       " [41.847095, -87.616767],\n",
       " [41.877846, -87.631296],\n",
       " [41.838897, -87.646804],\n",
       " [41.838897, -87.646804],\n",
       " [41.847095, -87.616767],\n",
       " [41.877846, -87.631296],\n",
       " [41.878693, -87.638924],\n",
       " [41.89323, -87.617419],\n",
       " [41.883772, -87.625962],\n",
       " [41.917164, -87.686965],\n",
       " [41.883772, -87.625962],\n",
       " [41.917164, -87.686965],\n",
       " [41.880982, -87.630553],\n",
       " [41.917164, -87.686965],\n",
       " [41.89323, -87.617419],\n",
       " [41.891551, -87.607375],\n",
       " [40.170101, -92.177847],\n",
       " [41.883772, -87.625962],\n",
       " [41.917164, -87.686965],\n",
       " [41.847095, -87.616767],\n",
       " [41.838897, -87.646804],\n",
       " [41.89302, -87.631556],\n",
       " [41.847095, -87.616767],\n",
       " [41.809739, -87.607105],\n",
       " [41.847441, -87.679408],\n",
       " [41.847095, -87.617419],\n",
       " [41.847095, -87.616767],\n",
       " [41.89302, -87.631556],\n",
       " [41.847095, -87.616767],\n",
       " [41.877817, -87.631247],\n",
       " [41.877846, -87.631296],\n",
       " [41.951072, -88.119872],\n",
       " [41.89302, -87.631556],\n",
       " [41.853136, -87.63316],\n",
       " [41.891551, -87.607375],\n",
       " [41.880982, -87.630553],\n",
       " [41.883772, -87.625962],\n",
       " [40.170101, -92.177847],\n",
       " [41.877817, -87.631247],\n",
       " [41.877817, -87.631247],\n",
       " [40.170101, -92.177847],\n",
       " [41.883772, -87.625962],\n",
       " [41.883772, -87.625962],\n",
       " [41.880982, -87.630553],\n",
       " [41.847441, -87.679408],\n",
       " [41.852623, -87.611958],\n",
       " [41.847095, -87.616767],\n",
       " [41.877817, -87.631247],\n",
       " [41.89302, -87.631556],\n",
       " [41.877846, -87.631296],\n",
       " [41.879094, -87.813483],\n",
       " [42.004828, -87.67314],\n",
       " [41.858415, -87.67314],\n",
       " [42.004828, -87.67314],\n",
       " [41.858415, -87.660926],\n",
       " [41.89302, -87.631556],\n",
       " [41.89302, -87.631556],\n",
       " [41.838897, -87.646804],\n",
       " [41.847095, -87.616767],\n",
       " [41.853136, -87.63316],\n",
       " [41.917164, -87.686965],\n",
       " [41.891551, -87.607375],\n",
       " [41.883772, -87.625962],\n",
       " [41.877817, -87.631247],\n",
       " [41.89323, -87.617419],\n",
       " [41.883772, -87.625962],\n",
       " [41.853136, -87.63316],\n",
       " [41.877817, -87.631247],\n",
       " [41.880982, -87.630553],\n",
       " [41.853136, -87.63316],\n",
       " [41.925573, -87.649249],\n",
       " [41.852623, -87.611958],\n",
       " [41.852623, -87.611958],\n",
       " [41.847095, -87.616767],\n",
       " [41.877817, -87.631247],\n",
       " [41.878693, -87.638924],\n",
       " [41.878693, -87.638924],\n",
       " [41.852623, -87.611958],\n",
       " [41.877817, -87.631247],\n",
       " [41.879094, -87.813483],\n",
       " [41.877817, -87.631247],\n",
       " [38.591142, -89.984312],\n",
       " [41.852623, -87.611958],\n",
       " [41.891551, -87.607375],\n",
       " [41.877817, -87.631247],\n",
       " [41.89323, -87.617419],\n",
       " [41.917164, -87.686965],\n",
       " [41.877817, -87.631247],\n",
       " [41.880982, -87.630553],\n",
       " [41.89323, -87.617419],\n",
       " [41.877817, -87.631247],\n",
       " [41.852623, -87.611958],\n",
       " [41.877846, -87.631296],\n",
       " [41.877817, -87.631247],\n",
       " [41.847095, -87.616767],\n",
       " [41.809739, -87.607375],\n",
       " [41.847441, -87.631247],\n",
       " [41.877948, -87.634926],\n",
       " [41.847095, -87.616767],\n",
       " [41.847095, -87.616767],\n",
       " [38.542048, -89.984333],\n",
       " [41.883772, -87.625962],\n",
       " [41.847095, -87.616767],\n",
       " [41.847095, -87.616767],\n",
       " [41.877846, -87.631296],\n",
       " [41.879094, -87.813483],\n",
       " [41.847095, -87.616767],\n",
       " [41.847095, -87.616767],\n",
       " [41.883772, -87.625962],\n",
       " [41.877846, -87.631296],\n",
       " [41.96245, -87.837132],\n",
       " [41.847095, -87.616767],\n",
       " [41.852623, -87.611958],\n",
       " [41.877817, -87.631247],\n",
       " [41.852623, -87.611958],\n",
       " [41.777989, -87.664548],\n",
       " [41.853136, -87.63316],\n",
       " [40.170101, -92.177847],\n",
       " [41.89323, -87.617419],\n",
       " [41.880982, -87.630553],\n",
       " [40.170101, -92.177847],\n",
       " [41.883772, -87.625962],\n",
       " [41.883772, -87.625962],\n",
       " [41.880982, -87.630553],\n",
       " [41.891551, -87.607375],\n",
       " [41.853136, -87.63316]]"
      ]
     },
     "execution_count": 13,
     "metadata": {},
     "output_type": "execute_result"
    }
   ],
   "source": [
    "output1Lat_Long #Array containing all the coordinates."
   ]
  },
  {
   "cell_type": "code",
   "execution_count": 14,
   "metadata": {},
   "outputs": [
    {
     "data": {
      "text/html": [
       "<div style=\"width:100%;\"><div style=\"position:relative;width:100%;height:0;padding-bottom:60%;\"><iframe src=\"data:text/html;charset=utf-8;base64,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\" style=\"position:absolute;width:100%;height:100%;left:0;top:0;border:none !important;\" allowfullscreen webkitallowfullscreen mozallowfullscreen></iframe></div></div>"
      ],
      "text/plain": [
       "<folium.folium.Map at 0x10e480b00>"
      ]
     },
     "execution_count": 14,
     "metadata": {},
     "output_type": "execute_result"
    }
   ],
   "source": [
    "output1HeatMap = folium.Map([41.891551, -87.607375], zoom_start=16) #Co-ordinates of Chicago, Navy Pier\n",
    "output1HeatMap.add_child(plugins.HeatMap(output1Lat_Long, radius = 15)) #Imposing Lat,Long values from issues on the map"
   ]
  },
  {
   "cell_type": "code",
   "execution_count": 15,
   "metadata": {},
   "outputs": [],
   "source": [
    "query2_1 = { #Second query that queries elastic search that returns all the issues that have label DetectionPhase as Field AND Priority as Critical\n",
    "    'size' : 500,\n",
    "    'query' : {\n",
    "        'bool' : {\n",
    "            'must' : [{'match' : {'DetectionPhase' : 'Field'}}, #'must' means logical AND\n",
    "                      {'match' : {'Priority' : 'Critical'}}\n",
    "                     ]\n",
    "        }\n",
    "    }\n",
    "}"
   ]
  },
  {
   "cell_type": "code",
   "execution_count": 16,
   "metadata": {},
   "outputs": [],
   "source": [
    "output2_1 = es.search(index = 'issues_fin', body = query2_1, scroll = '1h')#All the resultant issues from es stored in this variable"
   ]
  },
  {
   "cell_type": "code",
   "execution_count": 17,
   "metadata": {},
   "outputs": [
    {
     "name": "stdout",
     "output_type": "stream",
     "text": [
      "dict_keys(['_scroll_id', 'took', 'timed_out', '_shards', 'hits'])\n"
     ]
    },
    {
     "data": {
      "text/plain": [
       "{'_id': '12',\n",
       " '_index': 'issues_fin',\n",
       " '_score': 2.383039,\n",
       " '_source': {'Address': '645 N MCCLURG CT',\n",
       "  'Author': 'HSP18SCM69D',\n",
       "  'Category': 'Inquiry',\n",
       "  'DetectionPhase': 'Field',\n",
       "  'Latitude': '41.893230',\n",
       "  'OriginationPhase': 'Coding',\n",
       "  'Priority': 'Critical',\n",
       "  'Status': 'Approved',\n",
       "  'issue_number': 12},\n",
       " '_type': 'github repo issues'}"
      ]
     },
     "execution_count": 17,
     "metadata": {},
     "output_type": "execute_result"
    }
   ],
   "source": [
    "print(output2_1.keys()) #Prints all the keys in the output2_1 dictionary\n",
    "output2_1['hits']['hits'][0] #Similar output for rest of the issues."
   ]
  },
  {
   "cell_type": "code",
   "execution_count": 18,
   "metadata": {},
   "outputs": [],
   "source": [
    "output2_1Lat_Long = [] #Extracting only Latitiude and Longitude labels from output1 and storing them into array\n",
    "exists = False\n",
    "for i in (output2_1['hits']['hits']): #Format of elasticsearch, after querying this is how labels are accessed.\n",
    "    temp = []\n",
    "    try:\n",
    "        temp.append(float(i['_source']['Latitude']))#Since many issues do not have 'Latitude' or 'Longitude' labels, it tries to obtain them, if not then pass\n",
    "        temp.append(float(i['_source']['Longitude']))\n",
    "        output2_1Lat_Long.append(temp)\n",
    "    except:\n",
    "        pass\n",
    "\n"
   ]
  },
  {
   "cell_type": "code",
   "execution_count": 19,
   "metadata": {},
   "outputs": [
    {
     "data": {
      "text/plain": [
       "[[41.89323, -87.617419], [41.917164, -87.686965], [41.891551, -87.607375]]"
      ]
     },
     "execution_count": 19,
     "metadata": {},
     "output_type": "execute_result"
    }
   ],
   "source": [
    "output2_1Lat_Long"
   ]
  },
  {
   "cell_type": "code",
   "execution_count": 20,
   "metadata": {},
   "outputs": [
    {
     "data": {
      "text/html": [
       "<div style=\"width:100%;\"><div style=\"position:relative;width:100%;height:0;padding-bottom:60%;\"><iframe src=\"data:text/html;charset=utf-8;base64,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\" style=\"position:absolute;width:100%;height:100%;left:0;top:0;border:none !important;\" allowfullscreen webkitallowfullscreen mozallowfullscreen></iframe></div></div>"
      ],
      "text/plain": [
       "<folium.folium.Map at 0x10e4c22b0>"
      ]
     },
     "execution_count": 20,
     "metadata": {},
     "output_type": "execute_result"
    }
   ],
   "source": [
    "output2_1HeatMap = folium.Map([41.891551, -87.607375], zoom_start=16)#Co-ordinates of Chicago, Navy Pier\n",
    "output2_1HeatMap.add_child(plugins.HeatMap(output2_1Lat_Long, radius = 15))#Imposing Lat,Long values from issues on the map"
   ]
  },
  {
   "cell_type": "code",
   "execution_count": 21,
   "metadata": {},
   "outputs": [],
   "source": [
    "query2_2 = {#Second query that queries elastic search that returns all the issues that have label DetectionPhase as Field AND Status as Completed\n",
    "    'size' : 500,\n",
    "    'query' : {\n",
    "        'bool' : {\n",
    "            'must' : [{'match' : {'DetectionPhase' : 'Field'}},\n",
    "                      {'match' : {'Status' : 'Completed'}}\n",
    "                     ]\n",
    "        }\n",
    "    }\n",
    "}"
   ]
  },
  {
   "cell_type": "code",
   "execution_count": 22,
   "metadata": {},
   "outputs": [],
   "source": [
    "output2_2 = es.search(index = 'issues_fin', body = query2_2, scroll = '1h')"
   ]
  },
  {
   "cell_type": "code",
   "execution_count": 23,
   "metadata": {},
   "outputs": [
    {
     "name": "stdout",
     "output_type": "stream",
     "text": [
      "dict_keys(['_scroll_id', 'took', 'timed_out', '_shards', 'hits'])\n"
     ]
    },
    {
     "data": {
      "text/plain": [
       "{'_id': '22',\n",
       " '_index': 'issues_fin',\n",
       " '_score': 4.140232,\n",
       " '_source': {'Address': '233 W JACKSON',\n",
       "  'Author': 'HSP18SCM69D',\n",
       "  'Category': 'Bug',\n",
       "  'DetectionPhase': 'Field',\n",
       "  'Latitude': '40.170101',\n",
       "  'Longitude': '-92.177847',\n",
       "  'OriginationPhase': 'Coding',\n",
       "  'Priority': 'High',\n",
       "  'Status': 'Completed',\n",
       "  'issue_number': 22},\n",
       " '_type': 'github repo issues'}"
      ]
     },
     "execution_count": 23,
     "metadata": {},
     "output_type": "execute_result"
    }
   ],
   "source": [
    "print(output2_2.keys()) #Prints all the keys in the output2_2 dictionary\n",
    "output2_2['hits']['hits'][0] #Similar output for rest of the issues."
   ]
  },
  {
   "cell_type": "code",
   "execution_count": 24,
   "metadata": {},
   "outputs": [],
   "source": [
    "output2_2Lat_Long = []\n",
    "exists = False\n",
    "for i in (output2_2['hits']['hits']):\n",
    "    temp = []\n",
    "    try:\n",
    "        temp.append(float(i['_source']['Latitude']))\n",
    "        temp.append(float(i['_source']['Longitude']))\n",
    "        output2_2Lat_Long.append(temp)\n",
    "    except:\n",
    "        pass\n",
    "\n",
    "\n"
   ]
  },
  {
   "cell_type": "code",
   "execution_count": 25,
   "metadata": {},
   "outputs": [
    {
     "data": {
      "text/plain": [
       "[[40.170101, -92.177847],\n",
       " [41.891551, -87.607375],\n",
       " [41.89323, -87.617419],\n",
       " [41.853136, -87.63316]]"
      ]
     },
     "execution_count": 25,
     "metadata": {},
     "output_type": "execute_result"
    }
   ],
   "source": [
    "output2_2Lat_Long"
   ]
  },
  {
   "cell_type": "code",
   "execution_count": 26,
   "metadata": {},
   "outputs": [
    {
     "data": {
      "text/html": [
       "<div style=\"width:100%;\"><div style=\"position:relative;width:100%;height:0;padding-bottom:60%;\"><iframe src=\"data:text/html;charset=utf-8;base64,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\" style=\"position:absolute;width:100%;height:100%;left:0;top:0;border:none !important;\" allowfullscreen webkitallowfullscreen mozallowfullscreen></iframe></div></div>"
      ],
      "text/plain": [
       "<folium.folium.Map at 0x10e4a1710>"
      ]
     },
     "execution_count": 26,
     "metadata": {},
     "output_type": "execute_result"
    }
   ],
   "source": [
    "output2_2HeatMap = folium.Map([41.891551, -87.607375], zoom_start=16)\n",
    "output2_2HeatMap.add_child(plugins.HeatMap(output2_2Lat_Long, radius = 15))"
   ]
  },
  {
   "cell_type": "code",
   "execution_count": 27,
   "metadata": {},
   "outputs": [],
   "source": [
    "query2_3= { #Second query that queries elastic search that returns all the issues that have label DetectionPhase as Field AND Priority is Critical AND Status as Completed\n",
    "    'size' : 500,\n",
    "    'query' : {\n",
    "        'bool' : {\n",
    "            'must' : [{'match' : {'DetectionPhase' : 'Field'}},\n",
    "                      {'match' : {'Priority' : 'Critical'}},\n",
    "                      {'match' : {'Status' : 'Approved'}}\n",
    "                     ]\n",
    "        }\n",
    "    }\n",
    "}"
   ]
  },
  {
   "cell_type": "code",
   "execution_count": 28,
   "metadata": {},
   "outputs": [],
   "source": [
    "output2_3 = es.search(index = 'issues_fin', body = query2_3, scroll = '1h')"
   ]
  },
  {
   "cell_type": "code",
   "execution_count": 29,
   "metadata": {},
   "outputs": [
    {
     "name": "stdout",
     "output_type": "stream",
     "text": [
      "dict_keys(['_scroll_id', 'took', 'timed_out', '_shards', 'hits'])\n"
     ]
    },
    {
     "data": {
      "text/plain": [
       "{'_id': '26',\n",
       " '_index': 'issues_fin',\n",
       " '_score': 3.0965915,\n",
       " '_source': {'Address': '1951 N WESTERN AVE',\n",
       "  'Author': 'HSP18SCM69D',\n",
       "  'Category': 'Enhancement',\n",
       "  'DetectionPhase': 'Field',\n",
       "  'Latitude': '41.917164',\n",
       "  'Longitude': '-87.686965',\n",
       "  'OriginationPhase': 'Requirements',\n",
       "  'Priority': 'Critical',\n",
       "  'Status': 'Approved',\n",
       "  'issue_number': 26},\n",
       " '_type': 'github repo issues'}"
      ]
     },
     "execution_count": 29,
     "metadata": {},
     "output_type": "execute_result"
    }
   ],
   "source": [
    "print(output2_3.keys()) #Prints all the keys in the output2_3 dictionary\n",
    "output2_3['hits']['hits'][0] #Similar output for rest of the issues."
   ]
  },
  {
   "cell_type": "code",
   "execution_count": 30,
   "metadata": {},
   "outputs": [],
   "source": [
    "output2_3Lat_Long = []\n",
    "exists = False\n",
    "for i in (output2_3['hits']['hits']):\n",
    "    temp = []\n",
    "    try:\n",
    "        temp.append(float(i['_source']['Latitude']))\n",
    "        temp.append(float(i['_source']['Longitude']))\n",
    "        output2_3Lat_Long.append(temp)\n",
    "    except:\n",
    "        pass\n",
    "\n",
    "\n",
    "\n"
   ]
  },
  {
   "cell_type": "code",
   "execution_count": 31,
   "metadata": {},
   "outputs": [
    {
     "data": {
      "text/plain": [
       "[[41.917164, -87.686965], [41.891551, -87.607375]]"
      ]
     },
     "execution_count": 31,
     "metadata": {},
     "output_type": "execute_result"
    }
   ],
   "source": [
    "output2_3Lat_Long"
   ]
  },
  {
   "cell_type": "code",
   "execution_count": 32,
   "metadata": {},
   "outputs": [
    {
     "data": {
      "text/html": [
       "<div style=\"width:100%;\"><div style=\"position:relative;width:100%;height:0;padding-bottom:60%;\"><iframe src=\"data:text/html;charset=utf-8;base64,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\" style=\"position:absolute;width:100%;height:100%;left:0;top:0;border:none !important;\" allowfullscreen webkitallowfullscreen mozallowfullscreen></iframe></div></div>"
      ],
      "text/plain": [
       "<folium.folium.Map at 0x10e4a4e48>"
      ]
     },
     "execution_count": 32,
     "metadata": {},
     "output_type": "execute_result"
    }
   ],
   "source": [
    "output2_3HeatMap = folium.Map([41.891551, -87.607375], zoom_start=16)\n",
    "output2_3HeatMap.add_child(plugins.HeatMap(output2_3Lat_Long, radius = 15))"
   ]
  },
  {
   "cell_type": "code",
   "execution_count": 33,
   "metadata": {},
   "outputs": [],
   "source": [
    "query2_4= {#Second query that queries elastic search that returns all the issues that have label DetectionPhase as Field AND Priority is Critical OR High AND Status as Completed OR inProgress\n",
    "    'size' : 500,\n",
    "    'query' : {\n",
    "        'bool' : {\n",
    "            'must' : [{'match' : {'DetectionPhase' : 'Field'}},\n",
    "                      {'match' : {'Priority' : 'Critical OR High'}}, #OR here is logical OR\n",
    "                      {'match' : {'Status' : 'Approved OR inProgress'}}\n",
    "                     ]\n",
    "        }\n",
    "    }\n",
    "}"
   ]
  },
  {
   "cell_type": "code",
   "execution_count": 34,
   "metadata": {},
   "outputs": [],
   "source": [
    "output2_4 = es.search(index = 'issues_fin', body = query2_4, scroll = '1h')"
   ]
  },
  {
   "cell_type": "code",
   "execution_count": 35,
   "metadata": {},
   "outputs": [
    {
     "name": "stdout",
     "output_type": "stream",
     "text": [
      "dict_keys(['_scroll_id', 'took', 'timed_out', '_shards', 'hits'])\n"
     ]
    },
    {
     "data": {
      "text/plain": [
       "{'_id': '475',\n",
       " '_index': 'issues_fin',\n",
       " '_score': 5.081758,\n",
       " '_source': {'Author': 'HSP18SCM50W',\n",
       "  'Category': 'Inquiry',\n",
       "  'DetectionPhase': 'Field',\n",
       "  'OriginationPhase': 'Coding',\n",
       "  'Priority': 'High',\n",
       "  'Status': 'inProgress',\n",
       "  'issue_number': 475},\n",
       " '_type': 'github repo issues'}"
      ]
     },
     "execution_count": 35,
     "metadata": {},
     "output_type": "execute_result"
    }
   ],
   "source": [
    "print(output2_4.keys()) #Prints all the keys in the output2_4 dictionary\n",
    "output2_4['hits']['hits'][0] #Similar output for rest of the issues."
   ]
  },
  {
   "cell_type": "code",
   "execution_count": 36,
   "metadata": {},
   "outputs": [],
   "source": [
    "output2_4Lat_Long = []\n",
    "exists = False\n",
    "for i in (output2_4['hits']['hits']):\n",
    "    temp = []\n",
    "    try:\n",
    "        temp.append(float(i['_source']['Latitude']))\n",
    "        temp.append(float(i['_source']['Longitude']))\n",
    "        output2_4Lat_Long.append(temp)\n",
    "    except:\n",
    "        pass\n",
    "\n",
    "\n",
    "\n",
    "\n"
   ]
  },
  {
   "cell_type": "code",
   "execution_count": 37,
   "metadata": {},
   "outputs": [
    {
     "data": {
      "text/plain": [
       "[[41.853136, -87.63316],\n",
       " [41.89323, -87.617419],\n",
       " [41.917164, -87.686965],\n",
       " [41.891551, -87.607375]]"
      ]
     },
     "execution_count": 37,
     "metadata": {},
     "output_type": "execute_result"
    }
   ],
   "source": [
    "output2_4Lat_Long"
   ]
  },
  {
   "cell_type": "code",
   "execution_count": 38,
   "metadata": {},
   "outputs": [
    {
     "data": {
      "text/html": [
       "<div style=\"width:100%;\"><div style=\"position:relative;width:100%;height:0;padding-bottom:60%;\"><iframe src=\"data:text/html;charset=utf-8;base64,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\" style=\"position:absolute;width:100%;height:100%;left:0;top:0;border:none !important;\" allowfullscreen webkitallowfullscreen mozallowfullscreen></iframe></div></div>"
      ],
      "text/plain": [
       "<folium.folium.Map at 0x10e4f3780>"
      ]
     },
     "execution_count": 38,
     "metadata": {},
     "output_type": "execute_result"
    }
   ],
   "source": [
    "output2_4HeatMap = folium.Map([41.891551, -87.607375], zoom_start=16)\n",
    "output2_4HeatMap.add_child(plugins.HeatMap(output2_4Lat_Long, radius = 15))"
   ]
  },
  {
   "cell_type": "code",
   "execution_count": 45,
   "metadata": {},
   "outputs": [],
   "source": [
    "query2_5 = { #Query structure referenced from tutorial provided\n",
    "    'aggs' : {\n",
    "        'selected_data' : {\n",
    "            'terms' : {\n",
    "                'field' : 'Latitude.keyword', #Search for issues with same Latitude and Longitude\n",
    "                'field' : 'Longitude.keyword',\n",
    "                'min_doc_count' : 5, #Set minimum hit count as 5\n",
    "                'size' : 500\n",
    "            },\n",
    "            'aggs' : {\n",
    "                'accurate_hits' : {\n",
    "                    'top_hits' : {\n",
    "                        'size' : 10\n",
    "                    }\n",
    "                }\n",
    "            }\n",
    "        }\n",
    "    }\n",
    "}"
   ]
  },
  {
   "cell_type": "code",
   "execution_count": 46,
   "metadata": {},
   "outputs": [],
   "source": [
    "output2_5 = es.search(index = 'issues_fin', body = query2_5, scroll = '1h')"
   ]
  },
  {
   "cell_type": "code",
   "execution_count": 47,
   "metadata": {},
   "outputs": [
    {
     "name": "stdout",
     "output_type": "stream",
     "text": [
      "dict_keys(['_scroll_id', 'took', 'timed_out', '_shards', 'hits', 'aggregations'])\n",
      "dict_keys(['selected_data'])\n",
      "dict_keys(['doc_count_error_upper_bound', 'sum_other_doc_count', 'buckets'])\n"
     ]
    },
    {
     "data": {
      "text/plain": [
       "{'_id': '470',\n",
       " '_index': 'issues_fin',\n",
       " '_score': 1.0,\n",
       " '_source': {'Author': 'RSP18SCM19N',\n",
       "  'Category': 'Enhancement',\n",
       "  'DetectionPhase': 'Testing',\n",
       "  'OriginationPhase': 'Design',\n",
       "  'Priority': 'Major',\n",
       "  'Status': 'Completed',\n",
       "  'issue_number': 470},\n",
       " '_type': 'github repo issues'}"
      ]
     },
     "execution_count": 47,
     "metadata": {},
     "output_type": "execute_result"
    }
   ],
   "source": [
    "print(output2_5.keys()) #Prints all the keys in the output1 dictionary\n",
    "print(output2_5['aggregations'].keys())\n",
    "print(output2_5['aggregations']['selected_data'].keys())\n",
    "#print(output2_5['aggregations']['selected_data']['buckets']) #The data is inside dictionary 'accurate_hits'\n",
    "output2_5['hits']['hits'][0]\n",
    "#Similar output for rest of the issues."
   ]
  },
  {
   "cell_type": "code",
   "execution_count": 48,
   "metadata": {},
   "outputs": [],
   "source": [
    "output2_5Lat_Long = []\n",
    "for i in (output2_5['aggregations']['selected_data']['buckets']): #Structure of elastic search dictionary, this is the key\n",
    "    try:\n",
    "        for j in i['accurate_hits']['hits']['hits'] : #this the value to access\n",
    "            temp1 = []\n",
    "            temp1.append(float(j['_source']['Latitude']))\n",
    "            temp1.append(float(j['_source']['Longitude']))\n",
    "        output2_5Lat_Long.append(temp1)\n",
    "    except:\n",
    "        pass"
   ]
  },
  {
   "cell_type": "code",
   "execution_count": 43,
   "metadata": {},
   "outputs": [
    {
     "data": {
      "text/plain": [
       "[[41.847095, -87.616767],\n",
       " [41.877817, -87.631247],\n",
       " [41.883772, -87.625962],\n",
       " [41.852623, -87.611958],\n",
       " [41.89323, -87.617419],\n",
       " [41.880982, -87.630553],\n",
       " [41.877846, -87.631296],\n",
       " [41.891551, -87.607375],\n",
       " [41.89302, -87.631556],\n",
       " [41.853136, -87.63316],\n",
       " [41.917164, -87.686965],\n",
       " [41.878693, -87.638924],\n",
       " [41.838897, -87.646804],\n",
       " [40.170101, -92.177847]]"
      ]
     },
     "execution_count": 43,
     "metadata": {},
     "output_type": "execute_result"
    }
   ],
   "source": [
    "output2_5Lat_Long"
   ]
  },
  {
   "cell_type": "code",
   "execution_count": 44,
   "metadata": {},
   "outputs": [
    {
     "data": {
      "text/html": [
       "<div style=\"width:100%;\"><div style=\"position:relative;width:100%;height:0;padding-bottom:60%;\"><iframe src=\"data:text/html;charset=utf-8;base64,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\" style=\"position:absolute;width:100%;height:100%;left:0;top:0;border:none !important;\" allowfullscreen webkitallowfullscreen mozallowfullscreen></iframe></div></div>"
      ],
      "text/plain": [
       "<folium.folium.Map at 0x10e54f048>"
      ]
     },
     "execution_count": 44,
     "metadata": {},
     "output_type": "execute_result"
    }
   ],
   "source": [
    "output2_5HeatMap = folium.Map([41.891551, -87.607375], zoom_start=16)\n",
    "output2_5HeatMap.add_child(plugins.HeatMap(output2_5Lat_Long, radius = 15))"
   ]
  }
 ],
 "metadata": {
  "kernelspec": {
   "display_name": "Python 3",
   "language": "python",
   "name": "python3"
  },
  "language_info": {
   "codemirror_mode": {
    "name": "ipython",
    "version": 3
   },
   "file_extension": ".py",
   "mimetype": "text/x-python",
   "name": "python",
   "nbconvert_exporter": "python",
   "pygments_lexer": "ipython3",
   "version": "3.6.4"
  }
 },
 "nbformat": 4,
 "nbformat_minor": 2
}
